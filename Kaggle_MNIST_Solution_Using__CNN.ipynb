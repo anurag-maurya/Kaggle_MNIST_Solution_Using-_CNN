{
  "nbformat": 4,
  "nbformat_minor": 0,
  "metadata": {
    "colab": {
      "name": "Kaggle_MNIST_Solution_Using _CNN.ipynb",
      "version": "0.3.2",
      "provenance": [],
      "collapsed_sections": [],
      "include_colab_link": true
    },
    "kernelspec": {
      "name": "python3",
      "display_name": "Python 3"
    },
    "accelerator": "GPU"
  },
  "cells": [
    {
      "cell_type": "markdown",
      "metadata": {
        "id": "view-in-github",
        "colab_type": "text"
      },
      "source": [
        "<a href=\"https://colab.research.google.com/github/anurag-maurya/Kaggle_MNIST_Solution_Using-_CNN/blob/master/Kaggle_MNIST_Solution_Using__CNN.ipynb\" target=\"_parent\"><img src=\"https://colab.research.google.com/assets/colab-badge.svg\" alt=\"Open In Colab\"/></a>"
      ]
    },
    {
      "cell_type": "code",
      "metadata": {
        "id": "eplg4J-PjI48",
        "colab_type": "code",
        "colab": {}
      },
      "source": [
        "import numpy as np\n",
        "import tensorflow as tf\n",
        "import pandas as pd\n",
        "import matplotlib.pyplot as plt\n",
        "import os\n",
        "import io\n",
        "import csv\n"
      ],
      "execution_count": 0,
      "outputs": []
    },
    {
      "cell_type": "code",
      "metadata": {
        "id": "4LzsKmhcjOG8",
        "colab_type": "code",
        "colab": {}
      },
      "source": [
        "from google.colab import drive\n",
        "drive.mount('/content/drive')"
      ],
      "execution_count": 0,
      "outputs": []
    },
    {
      "cell_type": "code",
      "metadata": {
        "id": "V1LWIxBfjUwL",
        "colab_type": "code",
        "colab": {}
      },
      "source": [
        "# remove /content\n",
        "df=pd.read_csv('drive/My Drive/Colab Notebooks/train.csv')\n",
        "df2=pd.read_csv('drive/My Drive/test.csv')"
      ],
      "execution_count": 0,
      "outputs": []
    },
    {
      "cell_type": "code",
      "metadata": {
        "id": "1xIpXtXWjV0b",
        "colab_type": "code",
        "colab": {}
      },
      "source": [
        "df.sample(frac=1)"
      ],
      "execution_count": 0,
      "outputs": []
    },
    {
      "cell_type": "code",
      "metadata": {
        "id": "It47Moyvjsec",
        "colab_type": "code",
        "colab": {}
      },
      "source": [
        "tf.reset_default_graph() "
      ],
      "execution_count": 0,
      "outputs": []
    },
    {
      "cell_type": "code",
      "metadata": {
        "id": "Ci_4zMo7jv1U",
        "colab_type": "code",
        "colab": {}
      },
      "source": [
        "train_labels=df.iloc[:,0].values\n",
        "train_images=df.iloc[:,1:].values\n",
        "train_images=train_images/255\n",
        "test_images=df2.iloc[:,:].values\n",
        "test_images=test_images/255"
      ],
      "execution_count": 0,
      "outputs": []
    },
    {
      "cell_type": "code",
      "metadata": {
        "id": "AnhQzP9yjzVM",
        "colab_type": "code",
        "colab": {}
      },
      "source": [
        "train_y=tf.one_hot(train_labels,10)"
      ],
      "execution_count": 0,
      "outputs": []
    },
    {
      "cell_type": "code",
      "metadata": {
        "id": "08HlE96zj4Cl",
        "colab_type": "code",
        "colab": {
          "base_uri": "https://localhost:8080/",
          "height": 34
        },
        "outputId": "d7766d39-97de-4d48-8ca9-787fb6772ff2"
      },
      "source": [
        "train_x=tf.reshape(train_images,[-1,28,28,1])\n",
        "test_x=tf.reshape(test_images,[-1,28,28,1])\n",
        "print(test_x.shape)"
      ],
      "execution_count": 8,
      "outputs": [
        {
          "output_type": "stream",
          "text": [
            "(28000, 28, 28, 1)\n"
          ],
          "name": "stdout"
        }
      ]
    },
    {
      "cell_type": "code",
      "metadata": {
        "id": "u-WrWzfHj66B",
        "colab_type": "code",
        "colab": {}
      },
      "source": [
        "W1=tf.get_variable(name='W1',shape=[5,5,1,16],dtype=tf.float32,initializer=tf.contrib.layers.xavier_initializer(seed=0))\n",
        "b1=tf.get_variable(name='b1',shape=[16],dtype=tf.float32,initializer=tf.contrib.layers.xavier_initializer())\n",
        "W2=tf.get_variable(name='W2',shape=[5,5,16,32],dtype=tf.float32,initializer=tf.contrib.layers.xavier_initializer(seed=0))\n",
        "b2=tf.get_variable(name='b2',shape=[32],dtype=tf.float32,initializer=tf.contrib.layers.xavier_initializer())"
      ],
      "execution_count": 0,
      "outputs": []
    },
    {
      "cell_type": "code",
      "metadata": {
        "id": "75ta7VnEj-c-",
        "colab_type": "code",
        "colab": {}
      },
      "source": [
        "def tensor2array(p):\n",
        "  with tf.name_scope(\"aise_hi\"):\n",
        "    sess=tf.Session()\n",
        "    p=p.eval()\n",
        "    sess.close\n",
        "  return p\n"
      ],
      "execution_count": 0,
      "outputs": []
    },
    {
      "cell_type": "code",
      "metadata": {
        "id": "CqzTgf3ykBbv",
        "colab_type": "code",
        "colab": {}
      },
      "source": [
        "def predict_output(X):\n",
        "  wx1=tf.nn.conv2d(X,W1,strides=[1,1,1,1],padding='SAME')\n",
        "  z1=tf.nn.relu(wx1+b1)\n",
        "  a1 = tf.nn.max_pool(z1 , ksize = [1,8,8,1] , strides = [1,8,8,1] , padding = 'SAME')\n",
        "  #a1=tf.nn.pool(z1,window_shape=[2,2],pooling_type='AVG',padding='SAME')\n",
        "  wx2=tf.nn.conv2d(a1,W2,strides=[1,1,1,1],padding='SAME')\n",
        "  z2=tf.nn.relu(wx2+b2)\n",
        "  a2 = tf.nn.max_pool(z2 , ksize = [1,4,4,1] , strides = [1,4,4,1] , padding = 'SAME')\n",
        "  #a2=tf.nn.pool(z2,window_shape=[2,2],pooling_type='AVG',padding='SAME')\n",
        "  P2 = tf.contrib.layers.flatten(a2)\n",
        "  a3=tf.contrib.layers.fully_connected(P2,num_outputs=400)\n",
        "  a4=tf.contrib.layers.fully_connected(a3,num_outputs=10,activation_fn = None)\n",
        "  return a4"
      ],
      "execution_count": 0,
      "outputs": []
    },
    {
      "cell_type": "code",
      "metadata": {
        "id": "KySVYvmDkEbE",
        "colab_type": "code",
        "colab": {}
      },
      "source": [
        "batch_size=128\n",
        "learning_rate=0.0003"
      ],
      "execution_count": 0,
      "outputs": []
    },
    {
      "cell_type": "code",
      "metadata": {
        "id": "oYkWhsrPkH6V",
        "colab_type": "code",
        "colab": {}
      },
      "source": [
        "sess = tf.InteractiveSession()"
      ],
      "execution_count": 0,
      "outputs": []
    },
    {
      "cell_type": "code",
      "metadata": {
        "id": "BuAsJ8WPkQn2",
        "colab_type": "code",
        "colab": {}
      },
      "source": [
        "x=tf.placeholder(dtype=tf.float32,shape=[None,28,28,1])\n",
        "y=tf.placeholder(dtype=tf.float32,shape=[None,10])\n",
        "out_result=tf.placeholder(dtype=tf.float32,shape=[None,10])"
      ],
      "execution_count": 0,
      "outputs": []
    },
    {
      "cell_type": "code",
      "metadata": {
        "id": "GKrBpziRkRet",
        "colab_type": "code",
        "colab": {}
      },
      "source": [
        "y_=predict_output(x)\n",
        "#y_predict=tf.argmax(y_,1)\n",
        "loss=tf.reduce_mean(tf.nn.softmax_cross_entropy_with_logits(labels=y,logits=y_))\n",
        "train_op=tf.train.AdamOptimizer(learning_rate).minimize(loss)\n"
      ],
      "execution_count": 0,
      "outputs": []
    },
    {
      "cell_type": "code",
      "metadata": {
        "id": "FLTqzQUokUi6",
        "colab_type": "code",
        "colab": {}
      },
      "source": [
        "correct_prediction = tf.equal(tf.argmax(y, 1), tf.argmax(y_, 1))\n",
        "accuracy = tf.reduce_mean(tf.cast(correct_prediction, tf.float32))\n",
        "  "
      ],
      "execution_count": 0,
      "outputs": []
    },
    {
      "cell_type": "code",
      "metadata": {
        "id": "EGq2ERw4kYsj",
        "colab_type": "code",
        "colab": {}
      },
      "source": [
        "sess.run(tf.global_variables_initializer())"
      ],
      "execution_count": 0,
      "outputs": []
    },
    {
      "cell_type": "code",
      "metadata": {
        "id": "Vd9n5yptMUOm",
        "colab_type": "code",
        "colab": {}
      },
      "source": [
        ""
      ],
      "execution_count": 0,
      "outputs": []
    },
    {
      "cell_type": "code",
      "metadata": {
        "id": "lgZZW3ezkbxu",
        "colab_type": "code",
        "colab": {
          "base_uri": "https://localhost:8080/",
          "height": 527
        },
        "outputId": "c4bd1129-281a-4c5c-c718-064ab8971c69"
      },
      "source": [
        "for i in range(10):\n",
        "  m=train_images.shape[0] \n",
        "  for j in range(batch_size,m,batch_size):\n",
        "    batch_x=train_x[j-batch_size:j,:,:,:]\n",
        "    batch_y=train_y[j-batch_size:j,:]\n",
        "    sess.run(train_op,feed_dict={x:tensor2array(batch_x),y:tensor2array(batch_y)})\n",
        "  print(\"epoch : \",i)\n",
        "  print(\"loss=\",loss.eval(feed_dict={x:tensor2array(train_x),y:tensor2array(train_y)}))\n",
        "  print(\"train accuracy=\",accuracy.eval(feed_dict={x:tensor2array(train_x),y:tensor2array(train_y)}))\n",
        "  if(i==9):\n",
        "    out_result=y_.eval(feed_dict={x:tensor2array(test_x)})"
      ],
      "execution_count": 18,
      "outputs": [
        {
          "output_type": "stream",
          "text": [
            "epoch :  0\n",
            "loss= 0.4553002\n",
            "train accuracy= 0.8632619\n",
            "epoch :  1\n",
            "loss= 0.24232073\n",
            "train accuracy= 0.9257143\n",
            "epoch :  2\n",
            "loss= 0.17494932\n",
            "train accuracy= 0.94752383\n",
            "epoch :  3\n",
            "loss= 0.14058441\n",
            "train accuracy= 0.95709527\n",
            "epoch :  4\n",
            "loss= 0.1191873\n",
            "train accuracy= 0.96338093\n",
            "epoch :  5\n",
            "loss= 0.10448679\n",
            "train accuracy= 0.96828574\n",
            "epoch :  6\n",
            "loss= 0.09378359\n",
            "train accuracy= 0.97085714\n",
            "epoch :  7\n",
            "loss= 0.08650248\n",
            "train accuracy= 0.97333336\n",
            "epoch :  8\n",
            "loss= 0.08097742\n",
            "train accuracy= 0.97488093\n",
            "epoch :  9\n",
            "loss= 0.07671486\n",
            "train accuracy= 0.9759524\n"
          ],
          "name": "stdout"
        }
      ]
    },
    {
      "cell_type": "code",
      "metadata": {
        "id": "tAk8hBHLNcxg",
        "colab_type": "code",
        "colab": {}
      },
      "source": [
        "p=[]\n",
        "out_result=tf.argmax(out_result,1)\n",
        "p=out_result.eval()"
      ],
      "execution_count": 0,
      "outputs": []
    },
    {
      "cell_type": "code",
      "metadata": {
        "id": "94kq0Wc14F8Y",
        "colab_type": "code",
        "colab": {}
      },
      "source": [
        "with open('my_file.csv','w') as f:\n",
        "  thewriter=csv.writer(f)\n",
        "  thewriter.writerow(['ImageId','Label'])\n",
        "  for i in range(0,out_result.shape[0]):\n",
        "    thewriter.writerow([i+1,p[i]])\n",
        "  "
      ],
      "execution_count": 0,
      "outputs": []
    },
    {
      "cell_type": "code",
      "metadata": {
        "id": "Vd7wJQuLkkKs",
        "colab_type": "code",
        "colab": {}
      },
      "source": [
        "sess.close()\n"
      ],
      "execution_count": 0,
      "outputs": []
    }
  ]
}